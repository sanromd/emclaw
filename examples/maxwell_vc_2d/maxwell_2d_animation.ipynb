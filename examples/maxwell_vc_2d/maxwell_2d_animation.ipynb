{
 "cells": [
  {
   "cell_type": "code",
   "execution_count": null,
   "metadata": {},
   "outputs": [],
   "source": [
    "%matplotlib inline\n",
    "import numpy as np\n",
    "\n",
    "import maxwell_2d\n",
    "\n",
    "# important to plot\n",
    "import matplotlib.pyplot as plt\n",
    "from matplotlib import animation, rc\n",
    "from IPython.display import HTML\n",
    "from celluloid import Camera\n",
    "\n",
    "# output animation as html5\n",
    "rc('animation', html='html5')\n",
    "\n",
    "plt.style.use('dark_background')\n",
    "\n",
    "# animation function. This is called sequentially\n",
    "def get_solution(i, state = 0):\n",
    "    sol = claw.frames[i].states[state].get_q_global()\n",
    "    return sol\n",
    "\n",
    "def plot_q(frame, x, y, q = 1, ax = None, title = None):\n",
    "    data = get_solution(frame)\n",
    "    if title is not None:\n",
    "        ax.set_title(title)\n",
    "    else:\n",
    "        ax.set_title('frame '+str(frame));\n",
    "    im = ax.pcolormesh(x, y, data[q], shading = 'auto', animated = True);\n",
    "    return im\n",
    "\n",
    "def get_q_max_min():\n",
    "    data = get_solution(i)\n",
    "    [data[k].max() for k in len(data)]\n",
    "    \n",
    "def pcolor_q(i, ax, x, y, vmin = None, vmax = None, fig = None, colorbar = False):\n",
    "    data = get_solution(i)\n",
    "    for k in range(3):\n",
    "        im = ax[k].pcolormesh(x, y, data[k], shading = 'auto', vmin = vmin[k], vmax = vmax[k])\n",
    "        if colorbar:\n",
    "            fig.colorbar(im, ax = ax[k])\n",
    "        ax[k].grid(True)\n",
    "        ax[k].set_title('q = ' + str(k) + ' @ frame = ' + str(i))\n",
    "        ax[k].set_ylabel('y')\n",
    "        ax[k].set_xlabel('x')\n",
    "    return\n",
    "\n",
    "def myanimate(i, ax, x, y, vmin = None, vmax = None):\n",
    "    _ = pcolor_q(i, ax, x, y, vmin = vmin, vmax = vmax)\n"
   ]
  },
  {
   "cell_type": "code",
   "execution_count": null,
   "metadata": {},
   "outputs": [],
   "source": [
    "# maxwell_2d.x_upper = 200\n",
    "claw = maxwell_2d.em2D(mx = 256, num_frames = 20, heading = 'x', shape = 'pulse')\n",
    "claw.keep_copy = True\n",
    "claw.tfinal = 100\n",
    "# claw.logger.setLevel(logging.CRITICAL)\n",
    "claw.run()"
   ]
  },
  {
   "cell_type": "code",
   "execution_count": null,
   "metadata": {},
   "outputs": [],
   "source": [
    "dmax = []\n",
    "dmin = []\n",
    "dmin_th = 1e-12\n",
    "for i in range(len(claw.frames)):\n",
    "    data = get_solution(i)\n",
    "#     dini = np.zeros(3)\n",
    "    dmax.append(list(np.max(data, axis = 1).max(axis=1)))\n",
    "    dmin.append(list(np.min(data, axis = 2).min(axis=1)))\n",
    "dmax = np.max(dmax, axis = 0)\n",
    "dmin = np.min(dmin, axis = 0)\n",
    "dmin[dmin<dmin_th]=0"
   ]
  },
  {
   "cell_type": "code",
   "execution_count": null,
   "metadata": {},
   "outputs": [],
   "source": [
    "dmax"
   ]
  },
  {
   "cell_type": "code",
   "execution_count": null,
   "metadata": {},
   "outputs": [],
   "source": [
    "%matplotlib inline\n",
    "fig, ax = plt.subplots(nrows = 3, sharex = True, figsize = (10, 10))\n",
    "xc, yc = claw.solution.domain.grid.p_centers\n",
    "pcolor_q(20, ax, xc, yc, fig = fig, colorbar = True, vmin = dmin, vmax = dmax)"
   ]
  },
  {
   "cell_type": "code",
   "execution_count": null,
   "metadata": {},
   "outputs": [],
   "source": [
    "%%capture out\n",
    "fig, ax = plt.subplots(nrows = 3, sharex = True, figsize = (10, 10))\n",
    "ani = animation.FuncAnimation(fig, myanimate, frames = len(claw.frames), fargs = (ax, xc, yc, dmin, dmax), interval = 1e3)"
   ]
  },
  {
   "cell_type": "code",
   "execution_count": null,
   "metadata": {},
   "outputs": [],
   "source": [
    "HTML(ani.to_html5_video())"
   ]
  },
  {
   "cell_type": "code",
   "execution_count": null,
   "metadata": {},
   "outputs": [],
   "source": [
    "# %%capture out\n",
    "# fig, ax = plt.subplots(figsize = (10,10));\n",
    "\n",
    "# ax.set_xlim((maxwell_2d.x_lower, maxwell_2d.x_upper))\n",
    "# ax.set_ylim((maxwell_2d.y_lower, maxwell_2d.y_upper))\n",
    "\n",
    "# ims = []\n",
    "# for i in range(10):\n",
    "#     ims.append([plot_q(i, xc, yc, ax = ax)]);"
   ]
  },
  {
   "cell_type": "code",
   "execution_count": null,
   "metadata": {},
   "outputs": [],
   "source": [
    "# animation.ArtistAnimation(fig, ims, interval=1000, blit=True, repeat_delay=1000)"
   ]
  }
 ],
 "metadata": {
  "kernelspec": {
   "display_name": "Python [conda env:claw] *",
   "language": "python",
   "name": "conda-env-claw-py"
  },
  "language_info": {
   "codemirror_mode": {
    "name": "ipython",
    "version": 3
   },
   "file_extension": ".py",
   "mimetype": "text/x-python",
   "name": "python",
   "nbconvert_exporter": "python",
   "pygments_lexer": "ipython3",
   "version": "3.8.3"
  }
 },
 "nbformat": 4,
 "nbformat_minor": 4
}
